{
 "cells": [
  {
   "cell_type": "markdown",
   "metadata": {},
   "source": [
    "# Overview"
   ]
  },
  {
   "cell_type": "markdown",
   "metadata": {},
   "source": [
    "## 準備"
   ]
  },
  {
   "cell_type": "markdown",
   "metadata": {},
   "source": [
    "必要なモジュールのimport"
   ]
  },
  {
   "cell_type": "code",
   "execution_count": 6,
   "metadata": {},
   "outputs": [],
   "source": [
    "import sys\n",
    "from pprint import pprint\n",
    "sys.path.append('../src')\n",
    "from graph import DataSet, KnowledgeGraph\n",
    "from query_creator import RandomQueryCreator\n",
    "from retriever import LLMRetriever"
   ]
  },
  {
   "cell_type": "markdown",
   "metadata": {},
   "source": [
    "## 1.データセットの読み込み\n",
    "知識グラフの各ノードとリレーションに自然文による説明が文が付与されたText Attributed Knowledge Graph (TAKG)のデータセットを読み込みます．データセットは[KG-BERT](https://github.com/yao8839836/kg-bert/tree/master)でされていたものを使います．"
   ]
  },
  {
   "cell_type": "code",
   "execution_count": 2,
   "metadata": {},
   "outputs": [],
   "source": [
    "dataset = DataSet()\n",
    "dataset.from_files('../data/umls')"
   ]
  },
  {
   "cell_type": "markdown",
   "metadata": {},
   "source": [
    "datasetには教師データとテストデータが含まれています．"
   ]
  },
  {
   "cell_type": "code",
   "execution_count": 3,
   "metadata": {},
   "outputs": [
    {
     "name": "stdout",
     "output_type": "stream",
     "text": [
      "KnowledgeGraph with 135 nodes and 3105 edges\n",
      "KnowledgeGraph with 131 nodes and 593 edges\n"
     ]
    }
   ],
   "source": [
    "print(dataset.train)\n",
    "print(dataset.test)"
   ]
  },
  {
   "cell_type": "markdown",
   "metadata": {},
   "source": [
    "ノードは名称(name)，説明(text)の3つの属性があります．"
   ]
  },
  {
   "cell_type": "code",
   "execution_count": 7,
   "metadata": {},
   "outputs": [
    {
     "name": "stdout",
     "output_type": "stream",
     "text": [
      "{'name': 'idea_or_concept',\n",
      " 'text': 'In philosophy, ideas are usually taken as mental representational '\n",
      "         'images of some object. Ideas can also be abstract concepts that do '\n",
      "         'not present as mental images. Many philosophers have considered '\n",
      "         'ideas to be a fundamental ontological category of being. The '\n",
      "         'capacity to create and understand the meaning of ideas is considered '\n",
      "         'to be an essential and defining feature of human beings. In a '\n",
      "         'popular sense, an idea arises in a reflexive, spontaneous manner, '\n",
      "         'even without thinking or serious reflection, for example, when we '\n",
      "         'talk about the idea of a person or a place. A new or original idea '\n",
      "         'can often lead to innovation.'}\n"
     ]
    }
   ],
   "source": [
    "kg_train = dataset.train\n",
    "pprint(kg_train.nodes[0])"
   ]
  },
  {
   "cell_type": "markdown",
   "metadata": {},
   "source": [
    "## 2. 知識グラフ埋込モデルの学習"
   ]
  },
  {
   "cell_type": "markdown",
   "metadata": {},
   "source": [
    "知識グラフのノード属性の説明(text)を対象として埋込ベクトルを計算します．埋込ベクトルの計算にはOpenAIのAPIを用います．"
   ]
  },
  {
   "cell_type": "code",
   "execution_count": 8,
   "metadata": {},
   "outputs": [
    {
     "name": "stdout",
     "output_type": "stream",
     "text": [
      "calculate text embedding for relations connected to specified entities.\n",
      "calculate text embedding for specified entities.\n"
     ]
    },
    {
     "name": "stderr",
     "output_type": "stream",
     "text": [
      "100%|██████████| 135/135 [00:39<00:00,  3.39it/s]\n"
     ]
    },
    {
     "name": "stdout",
     "output_type": "stream",
     "text": [
      "calculate text embedding for relations connected to specified entities.\n"
     ]
    },
    {
     "name": "stderr",
     "output_type": "stream",
     "text": [
      "100%|██████████| 44/44 [00:12<00:00,  3.53it/s]\n"
     ]
    },
    {
     "name": "stdout",
     "output_type": "stream",
     "text": [
      "calculate text embedding for relations connected to specified entities.\n",
      "calculate text embedding for specified entities.\n"
     ]
    },
    {
     "name": "stderr",
     "output_type": "stream",
     "text": [
      "100%|██████████| 131/131 [00:44<00:00,  2.96it/s]\n"
     ]
    },
    {
     "name": "stdout",
     "output_type": "stream",
     "text": [
      "calculate text embedding for relations connected to specified entities.\n"
     ]
    },
    {
     "name": "stderr",
     "output_type": "stream",
     "text": [
      "100%|██████████| 36/36 [00:10<00:00,  3.44it/s]\n"
     ]
    }
   ],
   "source": [
    "dataset.set_text_embeddings()"
   ]
  },
  {
   "cell_type": "markdown",
   "metadata": {},
   "source": [
    "知識グラフの構造と上記の埋込ベクトルに基づき，知識グラフ埋込モデルを計算します．知識グラフの埋込モデルの計算には[pykeen](https://github.com/pykeen/pykeen?tab=readme-ov-file)を使います．"
   ]
  },
  {
   "cell_type": "code",
   "execution_count": 9,
   "metadata": {},
   "outputs": [],
   "source": [
    "# デバッグ中．\n",
    "# dataset.train_graph_embeddings(DistMultLiteral, training_kwargs={'num_epochs':1})"
   ]
  },
  {
   "cell_type": "markdown",
   "metadata": {},
   "source": [
    "## 3. クエリの作成"
   ]
  },
  {
   "cell_type": "markdown",
   "metadata": {},
   "source": [
    "知識グラフ埋込の精度向上のために必要なトリプルを取得するためのクエリを作成します．\n",
    "\n",
    "> まだランダムに作る手法しか実装していない → **このランダムは弱すぎる．もっと妥当なheadとrelationの組み合わせを出すようにする．**"
   ]
  },
  {
   "cell_type": "code",
   "execution_count": 11,
   "metadata": {},
   "outputs": [],
   "source": [
    "query_creator = RandomQueryCreator()\n",
    "queries = query_creator.create(dataset.train)"
   ]
  },
  {
   "cell_type": "markdown",
   "metadata": {},
   "source": [
    "クエリはtailが欠損したトリプルです．"
   ]
  },
  {
   "cell_type": "code",
   "execution_count": 14,
   "metadata": {},
   "outputs": [
    {
     "name": "stdout",
     "output_type": "stream",
     "text": [
      "{'head_name': 'natural_phenomenon_or_process',\n",
      " 'head_text': 'Types of natural phenomena include: Weather, fog, thunder, '\n",
      "              'tornadoes; biological processes, decomposition, germination; '\n",
      "              'physical processes, wave propagation, erosion; tidal flow, and '\n",
      "              'natural disasters such as electromagnetic pulses, volcanic '\n",
      "              'eruptions, and earthquakes.',\n",
      " 'relation_name': 'method_of',\n",
      " 'relation_text': 'method of'}\n"
     ]
    }
   ],
   "source": [
    "pprint(queries[0])"
   ]
  },
  {
   "cell_type": "markdown",
   "metadata": {},
   "source": [
    "## 4. 生成AIによるTailの取得"
   ]
  },
  {
   "cell_type": "markdown",
   "metadata": {},
   "source": [
    "生成AIを使ってTailのEntityを取得します．\n",
    "> + 現在はvanillaなLLMを利用．\n",
    "> + ハルシネーションが多いため，RAGを用いた手法に変える必要がある．\n",
    "> + ただし，RAGで用いるデータの用意が必要．→　**トリプルとEntityの説明から疑似的なドキュメントを作ってしまう．**"
   ]
  },
  {
   "cell_type": "code",
   "execution_count": 17,
   "metadata": {},
   "outputs": [
    {
     "name": "stdout",
     "output_type": "stream",
     "text": [
      "response\n",
      "{'name': 'Tail', 'args': {'tail_name': 'scientific_analysis', 'tail_text': 'Scientific analysis is a method used to study and understand natural phenomena or processes. It involves systematic observation, measurement, experimentation, and the formulation of hypotheses to explain the underlying mechanisms and causes of these phenomena.'}, 'id': 'call_9c8Ko5rWU8Hml0gFnfqiYAFS', 'type': 'tool_call'}\n",
      "response\n",
      "{'name': 'Tail', 'args': {'tail_name': 'Ukrainian Centre for Islamic Studies', 'tail_text': 'The Ukrainian Centre for Islamic Studies is an organization focused on the study and promotion of Islamic culture, history, and religion in Ukraine. It operates within the Kyiv Islamic Cultural Centre and collaborates with other Islamic organizations to provide educational resources and support for the Muslim community in Ukraine.'}, 'id': 'call_v2ERQ0I2vWeNzi5qK6oxRcVM', 'type': 'tool_call'}\n",
      "response\n",
      "{'name': 'Tail', 'args': {'tail_name': 'country', 'tail_text': \"A country is a distinct territorial body or political entity. It is often recognized as the land of an individual's birth, residence, or citizenship. Countries are defined by geographical boundaries and are recognized by other countries and international organizations. They have their own governments, laws, and often a shared culture or identity.\"}, 'id': 'call_C0YkBGzaREJxWVSSgZIcFb5L', 'type': 'tool_call'}\n",
      "response\n",
      "{'name': 'Tail', 'args': {'tail_name': 'metabolism', 'tail_text': \"Metabolism is the set of life-sustaining chemical reactions in organisms. The three main purposes of metabolism are the conversion of food/fuel to energy to run cellular processes, the conversion of food/fuel to building blocks for proteins, lipids, nucleic acids, and some carbohydrates, and the elimination of nitrogenous wastes. These enzyme-catalyzed reactions allow organisms to grow and reproduce, maintain their structures, and respond to their environments. Metabolism is usually divided into two categories: catabolism, the breaking down of organic matter, and anabolism, the building up of components of cells such as proteins and nucleic acids. The chemical reactions of metabolism are organized into metabolic pathways, in which one chemical is transformed through a series of steps into another chemical, by a sequence of enzymes. Enzymes are crucial to metabolism because they allow organisms to drive desirable reactions that require energy and will not occur by themselves, by coupling them to spontaneous reactions that release energy. Enzymes act as catalysts – they allow a reaction to proceed more rapidly. Enzymes also allow the regulation of metabolic pathways in response to changes in the cell's environment or signals from other cells.\"}, 'id': 'call_lYCkZ4vu1Ab2qotpTw6XJoeF', 'type': 'tool_call'}\n",
      "response\n",
      "{'name': 'Tail', 'args': {'tail_name': 'reticulate_body', 'tail_text': 'Reticulate bodies are the non-infectious, intracellular form of Chlamydia trachomatis. They are involved in the replication process within the host cell. Unlike elementary bodies, which are adapted for extracellular survival and infection, reticulate bodies are adapted for intracellular growth and division. They transform back into elementary bodies once replication is complete, allowing the bacteria to spread and infect new cells.'}, 'id': 'call_EC8zeIfMdKAwILGVDzB5dnLJ', 'type': 'tool_call'}\n"
     ]
    }
   ],
   "source": [
    "retriever = LLMRetriever()\n",
    "triples = retriever.complete_triples(queries)"
   ]
  },
  {
   "cell_type": "markdown",
   "metadata": {},
   "source": [
    "Tailが補完されたトリプルが得られます．"
   ]
  },
  {
   "cell_type": "code",
   "execution_count": 18,
   "metadata": {},
   "outputs": [
    {
     "name": "stdout",
     "output_type": "stream",
     "text": [
      "{'head_name': 'natural_phenomenon_or_process',\n",
      " 'head_text': 'Types of natural phenomena include: Weather, fog, thunder, '\n",
      "              'tornadoes; biological processes, decomposition, germination; '\n",
      "              'physical processes, wave propagation, erosion; tidal flow, and '\n",
      "              'natural disasters such as electromagnetic pulses, volcanic '\n",
      "              'eruptions, and earthquakes.',\n",
      " 'relation_name': 'method_of',\n",
      " 'relation_text': 'method of',\n",
      " 'tail_name': 'scientific_analysis',\n",
      " 'tail_text': 'Scientific analysis is a method used to study and understand '\n",
      "              'natural phenomena or processes. It involves systematic '\n",
      "              'observation, measurement, experimentation, and the formulation '\n",
      "              'of hypotheses to explain the underlying mechanisms and causes '\n",
      "              'of these phenomena.'}\n"
     ]
    }
   ],
   "source": [
    "pprint(triples[0])"
   ]
  },
  {
   "cell_type": "markdown",
   "metadata": {},
   "source": []
  },
  {
   "cell_type": "markdown",
   "metadata": {},
   "source": [
    "## 5. 知識グラフ埋込モデルの更新"
   ]
  },
  {
   "cell_type": "markdown",
   "metadata": {},
   "source": [
    "4で得られたトリプルを知識グラフに追加し，知識グラフ埋込モデルを更新します．（これで良くなっているはず）"
   ]
  },
  {
   "cell_type": "code",
   "execution_count": null,
   "metadata": {},
   "outputs": [],
   "source": [
    "dataset.train.add_triples(triples)\n",
    "#作成中\n",
    "#dataset.update_graph_embedding()"
   ]
  }
 ],
 "metadata": {
  "kernelspec": {
   "display_name": "Python 3",
   "language": "python",
   "name": "python3"
  },
  "language_info": {
   "codemirror_mode": {
    "name": "ipython",
    "version": 3
   },
   "file_extension": ".py",
   "mimetype": "text/x-python",
   "name": "python",
   "nbconvert_exporter": "python",
   "pygments_lexer": "ipython3",
   "version": "3.12.8"
  }
 },
 "nbformat": 4,
 "nbformat_minor": 2
}
